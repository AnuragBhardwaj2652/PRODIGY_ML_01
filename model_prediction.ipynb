{
 "cells": [
  {
   "cell_type": "code",
   "execution_count": 1,
   "id": "4463a161",
   "metadata": {},
   "outputs": [],
   "source": [
    "import pandas as pd\n",
    "from sklearn.linear_model import LinearRegression\n",
    "from sklearn.model_selection import train_test_split\n",
    "from sklearn.preprocessing import OrdinalEncoder\n",
    "from sklearn.impute import SimpleImputer\n",
    "from sklearn.metrics import mean_squared_error, r2_score"
   ]
  },
  {
   "cell_type": "code",
   "execution_count": 2,
   "id": "83e3ebc3",
   "metadata": {},
   "outputs": [
    {
     "data": {
      "text/html": [
       "<div>\n",
       "<style scoped>\n",
       "    .dataframe tbody tr th:only-of-type {\n",
       "        vertical-align: middle;\n",
       "    }\n",
       "\n",
       "    .dataframe tbody tr th {\n",
       "        vertical-align: top;\n",
       "    }\n",
       "\n",
       "    .dataframe thead th {\n",
       "        text-align: right;\n",
       "    }\n",
       "</style>\n",
       "<table border=\"1\" class=\"dataframe\">\n",
       "  <thead>\n",
       "    <tr style=\"text-align: right;\">\n",
       "      <th></th>\n",
       "      <th>OverallQual</th>\n",
       "      <th>GrLivArea</th>\n",
       "      <th>GarageCars</th>\n",
       "      <th>GarageArea</th>\n",
       "      <th>TotalBsmtSF</th>\n",
       "      <th>1stFlrSF</th>\n",
       "      <th>FullBath</th>\n",
       "      <th>YearBuilt</th>\n",
       "      <th>Fireplaces</th>\n",
       "      <th>TotRmsAbvGrd</th>\n",
       "      <th>KitchenQual</th>\n",
       "      <th>ExterQual</th>\n",
       "      <th>BsmtQual</th>\n",
       "      <th>GarageFinish</th>\n",
       "      <th>OpenPorchSF</th>\n",
       "      <th>SalePrice</th>\n",
       "    </tr>\n",
       "  </thead>\n",
       "  <tbody>\n",
       "    <tr>\n",
       "      <th>0</th>\n",
       "      <td>7</td>\n",
       "      <td>1710</td>\n",
       "      <td>2</td>\n",
       "      <td>548</td>\n",
       "      <td>856</td>\n",
       "      <td>856</td>\n",
       "      <td>2</td>\n",
       "      <td>2003</td>\n",
       "      <td>0</td>\n",
       "      <td>8</td>\n",
       "      <td>Gd</td>\n",
       "      <td>Gd</td>\n",
       "      <td>Gd</td>\n",
       "      <td>RFn</td>\n",
       "      <td>61</td>\n",
       "      <td>208500</td>\n",
       "    </tr>\n",
       "    <tr>\n",
       "      <th>1</th>\n",
       "      <td>6</td>\n",
       "      <td>1262</td>\n",
       "      <td>2</td>\n",
       "      <td>460</td>\n",
       "      <td>1262</td>\n",
       "      <td>1262</td>\n",
       "      <td>2</td>\n",
       "      <td>1976</td>\n",
       "      <td>1</td>\n",
       "      <td>6</td>\n",
       "      <td>TA</td>\n",
       "      <td>TA</td>\n",
       "      <td>Gd</td>\n",
       "      <td>RFn</td>\n",
       "      <td>0</td>\n",
       "      <td>181500</td>\n",
       "    </tr>\n",
       "    <tr>\n",
       "      <th>2</th>\n",
       "      <td>7</td>\n",
       "      <td>1786</td>\n",
       "      <td>2</td>\n",
       "      <td>608</td>\n",
       "      <td>920</td>\n",
       "      <td>920</td>\n",
       "      <td>2</td>\n",
       "      <td>2001</td>\n",
       "      <td>1</td>\n",
       "      <td>6</td>\n",
       "      <td>Gd</td>\n",
       "      <td>Gd</td>\n",
       "      <td>Gd</td>\n",
       "      <td>RFn</td>\n",
       "      <td>42</td>\n",
       "      <td>223500</td>\n",
       "    </tr>\n",
       "    <tr>\n",
       "      <th>3</th>\n",
       "      <td>7</td>\n",
       "      <td>1717</td>\n",
       "      <td>3</td>\n",
       "      <td>642</td>\n",
       "      <td>756</td>\n",
       "      <td>961</td>\n",
       "      <td>1</td>\n",
       "      <td>1915</td>\n",
       "      <td>1</td>\n",
       "      <td>7</td>\n",
       "      <td>Gd</td>\n",
       "      <td>TA</td>\n",
       "      <td>TA</td>\n",
       "      <td>Unf</td>\n",
       "      <td>35</td>\n",
       "      <td>140000</td>\n",
       "    </tr>\n",
       "    <tr>\n",
       "      <th>4</th>\n",
       "      <td>8</td>\n",
       "      <td>2198</td>\n",
       "      <td>3</td>\n",
       "      <td>836</td>\n",
       "      <td>1145</td>\n",
       "      <td>1145</td>\n",
       "      <td>2</td>\n",
       "      <td>2000</td>\n",
       "      <td>1</td>\n",
       "      <td>9</td>\n",
       "      <td>Gd</td>\n",
       "      <td>Gd</td>\n",
       "      <td>Gd</td>\n",
       "      <td>RFn</td>\n",
       "      <td>84</td>\n",
       "      <td>250000</td>\n",
       "    </tr>\n",
       "  </tbody>\n",
       "</table>\n",
       "</div>"
      ],
      "text/plain": [
       "   OverallQual  GrLivArea  GarageCars  GarageArea  TotalBsmtSF  1stFlrSF  \\\n",
       "0            7       1710           2         548          856       856   \n",
       "1            6       1262           2         460         1262      1262   \n",
       "2            7       1786           2         608          920       920   \n",
       "3            7       1717           3         642          756       961   \n",
       "4            8       2198           3         836         1145      1145   \n",
       "\n",
       "   FullBath  YearBuilt  Fireplaces  TotRmsAbvGrd KitchenQual ExterQual  \\\n",
       "0         2       2003           0             8          Gd        Gd   \n",
       "1         2       1976           1             6          TA        TA   \n",
       "2         2       2001           1             6          Gd        Gd   \n",
       "3         1       1915           1             7          Gd        TA   \n",
       "4         2       2000           1             9          Gd        Gd   \n",
       "\n",
       "  BsmtQual GarageFinish  OpenPorchSF  SalePrice  \n",
       "0       Gd          RFn           61     208500  \n",
       "1       Gd          RFn            0     181500  \n",
       "2       Gd          RFn           42     223500  \n",
       "3       TA          Unf           35     140000  \n",
       "4       Gd          RFn           84     250000  "
      ]
     },
     "execution_count": 2,
     "metadata": {},
     "output_type": "execute_result"
    }
   ],
   "source": [
    "# Load the dataset\n",
    "df = pd.read_csv(\"dataset.csv\")\n",
    "df.head()\n"
   ]
  },
  {
   "cell_type": "code",
   "execution_count": 8,
   "id": "d341e1ce",
   "metadata": {},
   "outputs": [
    {
     "data": {
      "text/plain": [
       "OverallQual     0\n",
       "GrLivArea       0\n",
       "GarageCars      0\n",
       "GarageArea      0\n",
       "TotalBsmtSF     0\n",
       "1stFlrSF        0\n",
       "FullBath        0\n",
       "YearBuilt       0\n",
       "Fireplaces      0\n",
       "TotRmsAbvGrd    0\n",
       "KitchenQual     0\n",
       "ExterQual       0\n",
       "BsmtQual        0\n",
       "GarageFinish    0\n",
       "OpenPorchSF     0\n",
       "SalePrice       0\n",
       "dtype: int64"
      ]
     },
     "execution_count": 8,
     "metadata": {},
     "output_type": "execute_result"
    }
   ],
   "source": [
    "df.isnull().sum()"
   ]
  },
  {
   "cell_type": "code",
   "execution_count": 7,
   "id": "28f77fac",
   "metadata": {},
   "outputs": [],
   "source": [
    "df[\"BsmtQual\"].fillna(df[\"BsmtQual\"].mode()[0], inplace=True)\n",
    "df[\"GarageFinish\"].fillna(df[\"GarageFinish\"].mode()[0], inplace=True)"
   ]
  },
  {
   "cell_type": "code",
   "execution_count": 9,
   "id": "58f3c45e",
   "metadata": {},
   "outputs": [],
   "source": [
    "# Select the 8 important features and the target\n",
    "features = [\n",
    "    \"OverallQual\", \"GrLivArea\", \"GarageCars\", \"TotalBsmtSF\",\n",
    "    \"FullBath\", \"YearBuilt\", \"KitchenQual\", \"Fireplaces\"\n",
    "]\n",
    "target = \"SalePrice\"\n",
    "\n",
    "X = df[features]\n",
    "y = df[target]"
   ]
  },
  {
   "cell_type": "code",
   "execution_count": 10,
   "id": "08234e43",
   "metadata": {},
   "outputs": [
    {
     "name": "stderr",
     "output_type": "stream",
     "text": [
      "C:\\Users\\siddarth\\AppData\\Local\\Temp\\ipykernel_11256\\580182524.py:3: SettingWithCopyWarning: \n",
      "A value is trying to be set on a copy of a slice from a DataFrame.\n",
      "Try using .loc[row_indexer,col_indexer] = value instead\n",
      "\n",
      "See the caveats in the documentation: https://pandas.pydata.org/pandas-docs/stable/user_guide/indexing.html#returning-a-view-versus-a-copy\n",
      "  X[categorical_cols] = encoder.fit_transform(X[categorical_cols])\n"
     ]
    }
   ],
   "source": [
    "encoder = OrdinalEncoder(handle_unknown=\"use_encoded_value\", unknown_value=-1)\n",
    "categorical_cols = [\"KitchenQual\"]\n",
    "X[categorical_cols] = encoder.fit_transform(X[categorical_cols])"
   ]
  },
  {
   "cell_type": "code",
   "execution_count": 11,
   "id": "9249f0cd",
   "metadata": {},
   "outputs": [],
   "source": [
    "# Train-test split\n",
    "X_train, X_test, y_train, y_test = train_test_split(X, y, test_size=0.2, random_state=42)"
   ]
  },
  {
   "cell_type": "code",
   "execution_count": 19,
   "id": "aebf5fc7",
   "metadata": {},
   "outputs": [
    {
     "data": {
      "text/plain": [
       "array([129458.2770875 , 296942.03293061, 124768.19915353, 182347.61427509,\n",
       "       311035.5047385 ,  57897.89682358, 222857.76837326, 169907.2105909 ,\n",
       "        57246.44344966, 121256.41469207, 154861.04873132, 102960.30274744,\n",
       "        93401.01319585, 216598.42126534, 189089.59028302, 122889.89142919,\n",
       "       221161.71302111, 115127.33374475, 122010.91255728, 212423.51427655,\n",
       "       169168.39160783, 220378.70119832, 182942.34191891, 103336.60295651,\n",
       "       208494.86442401, 175933.7351136 , 205112.253151  ,  96804.15470937,\n",
       "       184256.9738982 , 215635.78102569, 108336.93739833, 254018.96799362,\n",
       "       247188.17712391,  89049.93643411, 264571.86988517, 144828.66480349,\n",
       "       150815.65162029, 230403.41917829, 294546.80165307,  81702.49208977,\n",
       "       145157.45571747, 247847.84294101, 109143.79937913, 323792.1523325 ,\n",
       "       123561.04928391, 181635.50565103, 104363.05167802, 107844.20027229,\n",
       "       359419.54821977, 129357.83220743, 102508.25824227, 215058.17900846,\n",
       "       122808.17766362, 295615.16601723, 169545.85839801, 230388.70481945,\n",
       "       218020.67788907, 182163.37898457, 160531.22967899,  88944.43129293,\n",
       "        82760.04499975, 140506.2855613 , 292002.94969413, 288521.39703749,\n",
       "       273149.34723115, 215498.34230832,  98444.70469169, 299126.25977212,\n",
       "       102063.84201048, 174255.15148743, 130886.01810096, 130092.41845444,\n",
       "        86414.35416953,  68333.63487542, 370009.85601338, 196092.48635861,\n",
       "       291239.33262495, 274032.38588605, 118396.45225359,  98282.35891583,\n",
       "       132704.59346161,  98511.27075664, 121280.96247521,  79915.54220643,\n",
       "       166686.35971103, 124743.97299517, 267476.28344255, 218835.50808642,\n",
       "       169545.85839801, 207556.07462648, 156902.32260522, 147469.47243328,\n",
       "       103908.67294663, 274629.74834885, 128415.43574159, 197601.43080567,\n",
       "       211457.55203995, 194276.70538706, 215184.01122722, 273711.09431404,\n",
       "       192848.76371718, 213853.14579349, 256471.77824826, 134547.83952673,\n",
       "       182692.63521052, 189962.22739605, 159799.47425491, 249799.77455143,\n",
       "       134441.64368468, 228412.39503126,  57336.35056703,  99104.88083366,\n",
       "       112134.87709959, 117814.30295514, 217271.71140006, 125021.99660999,\n",
       "        85042.33291512, 133905.86243673, 162527.67881121, 295728.21273862,\n",
       "       135672.93920934, 169545.85839801, 183870.74956424, 188161.89156557,\n",
       "       197971.54665202, 106202.33627354, 246439.50730314,  90845.5028603 ,\n",
       "       142558.83705006, 193547.78207498, 203414.75793993, 297088.58332982,\n",
       "       212353.9030008 , 144042.39497195,  28097.62369867, 332129.43663639,\n",
       "       319825.16177913, 109657.02373988, 239320.83139334, 468172.72467059,\n",
       "       341739.16283081, 102810.14803179, 198147.5698596 , 170109.6843093 ,\n",
       "       126081.55602227, 113872.1402968 , 205803.20692918, 208732.01979614,\n",
       "        97492.67652875,  39064.97915622, 124783.76530094, 160175.66160086,\n",
       "       242228.66253418, 180831.29388707,  79486.11957704, 128921.20418403,\n",
       "       130432.93877629, 171983.37217606,  37736.47760988, 122972.78260064,\n",
       "       213476.30177032, 152632.06694335, 265658.16262102, 146193.1141501 ,\n",
       "       110959.18535676, 143580.7450036 , 232069.75483109, 336090.24750847,\n",
       "       371485.708992  , 214289.39234276, 350189.19181812,  69269.59996088,\n",
       "       103349.27032592, 172239.97513847, 302067.73942157, 121492.77167502,\n",
       "       145996.73297941, 222943.45248023, 129749.79823242, 186077.51563695,\n",
       "       164933.66079487, 145567.70478227, 125328.03857843, 165559.52808538,\n",
       "       252649.90580429, 162409.51539778, 274602.35549941, 237597.12809657,\n",
       "       216362.96418817,  91630.35591866, 139327.81732103, 100951.7094988 ,\n",
       "       130834.57672593, 147101.87293717, 196943.36214977, 189721.91705291,\n",
       "       226807.67719896,  87649.62993934, 228338.85635436, 116233.45447962,\n",
       "       227508.86857634, 188073.85915451, 104683.9937677 , 303865.17883192,\n",
       "       203611.9258064 , 106747.33122368, 253065.81514406, 132964.81578126,\n",
       "       163523.26262706, 103124.38233934, 252601.23167752, 160904.28977701,\n",
       "        87181.17830413, 164784.57534373, 197207.82269338, 235649.90783308,\n",
       "       237283.59001939, 128061.18323463, 141211.23783295, 155043.10894916,\n",
       "       131054.2386655 , 229132.76516102, 190475.19285311, 101955.77867931,\n",
       "       243917.35046909, 137687.74820181,  95264.86413154,  71193.16766339,\n",
       "       181645.68854651,  79142.2599145 ,  81072.77763497, 189385.39990216,\n",
       "       130707.63927785, 105330.9877355 , 242821.47415731, 121283.90727183,\n",
       "       196425.74689315, 164087.01337125, 222151.17288541, 132629.93536193,\n",
       "       108547.45506254, 263441.58621928, 211804.44323932, 347124.23588186,\n",
       "       204368.75660559,  95511.061154  , 156458.68319651, 179446.43453488,\n",
       "       142834.62651331,  91057.18021916, 178148.24072937, 196343.27187568,\n",
       "       122818.40679678, 122864.88278982, 129765.88271233, 156434.4135591 ,\n",
       "       119533.96769802, 115790.1257594 , 184933.421144  , 258123.28426454,\n",
       "       286236.29662393, 168649.33525139, 107087.24834089, 226731.09779607,\n",
       "       287331.87974734, 232730.61786536, 168801.39392872, 159160.55953648,\n",
       "       149030.1501021 , 181579.52759362, 356057.28513231, 225753.80748324,\n",
       "       238455.95150029, 109625.44536605,  95918.49069693, 127413.88558478,\n",
       "       213268.6918076 , 312247.55838841, 209341.89577452, 137522.8882746 ,\n",
       "       225015.42326421, 119963.14245477, 203794.3669919 ,  98737.54705365,\n",
       "       270293.75955049, 196934.13113527, 217693.79299884, 105222.53099811,\n",
       "       227023.67641371, 207230.34793952, 115141.00627371, 102992.96176156])"
      ]
     },
     "execution_count": 19,
     "metadata": {},
     "output_type": "execute_result"
    }
   ],
   "source": [
    "# Train model\n",
    "model = LinearRegression()\n",
    "model.fit(X_train, y_train)\n",
    "\n",
    "# Make predictions\n",
    "y_pred = model.predict(X_test)\n",
    "y_pred\n"
   ]
  },
  {
   "cell_type": "code",
   "execution_count": 13,
   "id": "768c09a9",
   "metadata": {},
   "outputs": [],
   "source": [
    "# Evaluate model\n",
    "y_pred = model.predict(X_test)\n",
    "mse = mean_squared_error(y_test, y_pred)\n",
    "r2 = r2_score(y_test, y_pred)\n"
   ]
  },
  {
   "cell_type": "code",
   "execution_count": 15,
   "id": "1218fdcb",
   "metadata": {},
   "outputs": [
    {
     "name": "stdout",
     "output_type": "stream",
     "text": [
      "Mean Squared Error: 1443233316.056314\n",
      "R² Score: 81.18%\n"
     ]
    }
   ],
   "source": [
    "print(f\"Mean Squared Error: {mse}\")\n",
    "print(f\"R² Score: {r2*100:.2f}%\")"
   ]
  }
 ],
 "metadata": {
  "kernelspec": {
   "display_name": "Python 3",
   "language": "python",
   "name": "python3"
  },
  "language_info": {
   "codemirror_mode": {
    "name": "ipython",
    "version": 3
   },
   "file_extension": ".py",
   "mimetype": "text/x-python",
   "name": "python",
   "nbconvert_exporter": "python",
   "pygments_lexer": "ipython3",
   "version": "3.13.1"
  }
 },
 "nbformat": 4,
 "nbformat_minor": 5
}
